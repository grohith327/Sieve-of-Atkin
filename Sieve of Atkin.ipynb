{
 "cells": [
  {
   "cell_type": "code",
   "execution_count": 3,
   "metadata": {},
   "outputs": [
    {
     "name": "stdout",
     "output_type": "stream",
     "text": [
      "50\n",
      "[2, 3, 5, 7, 11, 13, 17, 19, 23, 29, 31, 37, 41, 43, 47]\n"
     ]
    }
   ],
   "source": [
    "'''\n",
    "Given a limit, print all primes smaller than or equal to the given limit, has a better theoretical asymptotic complexity\n",
    "to Sieve of Eratosthenes \n",
    "'''\n",
    "limit = int(input())\n",
    "\n",
    "prim_num = []\n",
    "if(limit > 2):\n",
    "    prim_num.append(2)\n",
    "if(limit > 3):\n",
    "    prim_num.append(3)\n",
    "    \n",
    "sieve = []\n",
    "for i in range(limit):\n",
    "    sieve.append(False)\n",
    "    \n",
    "x = 1\n",
    "while(x*x < limit):\n",
    "    y = 1\n",
    "    while(y*y < limit):\n",
    "        \n",
    "        n = 4*(x**2) + y**2\n",
    "        if(n <= limit and (n%12 == 5 or n%12 == 1)):\n",
    "            sieve[n] |= True\n",
    "        \n",
    "        n = 3*(x**2) + y**2\n",
    "        if(n <= limit and n%12 == 7):\n",
    "            sieve[n] |= True\n",
    "        \n",
    "        n = 3*(x**2) - y**2\n",
    "        if(x > y and n <= limit and n%12 == 11):\n",
    "            sieve[n] |= True\n",
    "        \n",
    "        y += 1\n",
    "    \n",
    "    x += 1\n",
    "    \n",
    "r = 5\n",
    "while(r*r < limit):\n",
    "    if(sieve[r]):\n",
    "        i = r*r\n",
    "        while(i < limit):\n",
    "            sieve[i] = False\n",
    "            i += r*r\n",
    "    r += 1\n",
    "    \n",
    "for i in range(5,limit):\n",
    "    if(sieve[i]):\n",
    "        prim_num.append(i)\n",
    "        \n",
    "print(prim_num)"
   ]
  },
  {
   "cell_type": "code",
   "execution_count": null,
   "metadata": {},
   "outputs": [],
   "source": []
  }
 ],
 "metadata": {
  "kernelspec": {
   "display_name": "Python 3",
   "language": "python",
   "name": "python3"
  },
  "language_info": {
   "codemirror_mode": {
    "name": "ipython",
    "version": 3
   },
   "file_extension": ".py",
   "mimetype": "text/x-python",
   "name": "python",
   "nbconvert_exporter": "python",
   "pygments_lexer": "ipython3",
   "version": "3.6.4"
  }
 },
 "nbformat": 4,
 "nbformat_minor": 2
}
